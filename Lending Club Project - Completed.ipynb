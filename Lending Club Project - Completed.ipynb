{
 "cells": [
  {
   "cell_type": "markdown",
   "metadata": {},
   "source": [
    "Lending Club is a company based in San Francisco that operates the world’s largest online peer-to-peer lending platform. It allows borrowers to create online loan listings, which investors can browse, and using information provided about the borrower and loan conditions, can select loan(s) to fund. The company generates revenue by charging customers origination and service fees. Lending Club was founded in 2007, and has since grown rapidly, boasting more than 1.5 million customers and over US $26 billion in total loan issuance. In 2011 and 2012, it was recognised by Forbes as one of America’s 20 most promising companies and in 2014, was listed by Inc. as one of the 300 fastest growing private companies in the USA.\n",
    "\n",
    "\n",
    "While it can be a good investment option, lending money through Lending Club can be understandably daunting for members of the public. As such, a predictive model that can accurately predict whether borrowers will pay back their loans would be a useful tool when choosing which loan(s) to fund, if any. The purpose of this project is to use data science and machine learning techniques to build a model that can be used to predict whether or not a loan will be paid back in full. Data on all of Lending Club’s approved loans from 2007-2011 was used for this project, and can be found on their website: https://www.lendingclub.com/info/download-data.action\n"
   ]
  },
  {
   "cell_type": "code",
   "execution_count": 9,
   "metadata": {},
   "outputs": [
    {
     "name": "stdout",
     "output_type": "stream",
     "text": [
      "(42538, 120)\n"
     ]
    },
    {
     "name": "stderr",
     "output_type": "stream",
     "text": [
      "C:\\NewAnaconda3\\lib\\site-packages\\IPython\\core\\interactiveshell.py:3049: DtypeWarning: Columns (45) have mixed types. Specify dtype option on import or set low_memory=False.\n",
      "  interactivity=interactivity, compiler=compiler, result=result)\n"
     ]
    },
    {
     "data": {
      "text/html": [
       "<div>\n",
       "<style scoped>\n",
       "    .dataframe tbody tr th:only-of-type {\n",
       "        vertical-align: middle;\n",
       "    }\n",
       "\n",
       "    .dataframe tbody tr th {\n",
       "        vertical-align: top;\n",
       "    }\n",
       "\n",
       "    .dataframe thead th {\n",
       "        text-align: right;\n",
       "    }\n",
       "</style>\n",
       "<table border=\"1\" class=\"dataframe\">\n",
       "  <thead>\n",
       "    <tr style=\"text-align: right;\">\n",
       "      <th></th>\n",
       "      <th>loan_amnt</th>\n",
       "      <th>funded_amnt</th>\n",
       "      <th>funded_amnt_inv</th>\n",
       "      <th>term</th>\n",
       "      <th>int_rate</th>\n",
       "      <th>installment</th>\n",
       "      <th>grade</th>\n",
       "      <th>sub_grade</th>\n",
       "      <th>emp_title</th>\n",
       "      <th>emp_length</th>\n",
       "      <th>...</th>\n",
       "      <th>sec_app_earliest_cr_line</th>\n",
       "      <th>sec_app_inq_last_6mths</th>\n",
       "      <th>sec_app_mort_acc</th>\n",
       "      <th>sec_app_open_acc</th>\n",
       "      <th>sec_app_revol_util</th>\n",
       "      <th>sec_app_open_il_6m</th>\n",
       "      <th>sec_app_num_rev_accts</th>\n",
       "      <th>sec_app_chargeoff_within_12_mths</th>\n",
       "      <th>sec_app_collections_12_mths_ex_med</th>\n",
       "      <th>sec_app_mths_since_last_major_derog</th>\n",
       "    </tr>\n",
       "  </thead>\n",
       "  <tbody>\n",
       "    <tr>\n",
       "      <th>0</th>\n",
       "      <td>5000.0</td>\n",
       "      <td>5000.0</td>\n",
       "      <td>4975.0</td>\n",
       "      <td>36 months</td>\n",
       "      <td>10.65%</td>\n",
       "      <td>162.87</td>\n",
       "      <td>B</td>\n",
       "      <td>B2</td>\n",
       "      <td>NaN</td>\n",
       "      <td>10+ years</td>\n",
       "      <td>...</td>\n",
       "      <td>NaN</td>\n",
       "      <td>NaN</td>\n",
       "      <td>NaN</td>\n",
       "      <td>NaN</td>\n",
       "      <td>NaN</td>\n",
       "      <td>NaN</td>\n",
       "      <td>NaN</td>\n",
       "      <td>NaN</td>\n",
       "      <td>NaN</td>\n",
       "      <td>NaN</td>\n",
       "    </tr>\n",
       "    <tr>\n",
       "      <th>1</th>\n",
       "      <td>2500.0</td>\n",
       "      <td>2500.0</td>\n",
       "      <td>2500.0</td>\n",
       "      <td>60 months</td>\n",
       "      <td>15.27%</td>\n",
       "      <td>59.83</td>\n",
       "      <td>C</td>\n",
       "      <td>C4</td>\n",
       "      <td>Ryder</td>\n",
       "      <td>&lt; 1 year</td>\n",
       "      <td>...</td>\n",
       "      <td>NaN</td>\n",
       "      <td>NaN</td>\n",
       "      <td>NaN</td>\n",
       "      <td>NaN</td>\n",
       "      <td>NaN</td>\n",
       "      <td>NaN</td>\n",
       "      <td>NaN</td>\n",
       "      <td>NaN</td>\n",
       "      <td>NaN</td>\n",
       "      <td>NaN</td>\n",
       "    </tr>\n",
       "    <tr>\n",
       "      <th>2</th>\n",
       "      <td>2400.0</td>\n",
       "      <td>2400.0</td>\n",
       "      <td>2400.0</td>\n",
       "      <td>36 months</td>\n",
       "      <td>15.96%</td>\n",
       "      <td>84.33</td>\n",
       "      <td>C</td>\n",
       "      <td>C5</td>\n",
       "      <td>NaN</td>\n",
       "      <td>10+ years</td>\n",
       "      <td>...</td>\n",
       "      <td>NaN</td>\n",
       "      <td>NaN</td>\n",
       "      <td>NaN</td>\n",
       "      <td>NaN</td>\n",
       "      <td>NaN</td>\n",
       "      <td>NaN</td>\n",
       "      <td>NaN</td>\n",
       "      <td>NaN</td>\n",
       "      <td>NaN</td>\n",
       "      <td>NaN</td>\n",
       "    </tr>\n",
       "    <tr>\n",
       "      <th>3</th>\n",
       "      <td>10000.0</td>\n",
       "      <td>10000.0</td>\n",
       "      <td>10000.0</td>\n",
       "      <td>36 months</td>\n",
       "      <td>13.49%</td>\n",
       "      <td>339.31</td>\n",
       "      <td>C</td>\n",
       "      <td>C1</td>\n",
       "      <td>AIR RESOURCES BOARD</td>\n",
       "      <td>10+ years</td>\n",
       "      <td>...</td>\n",
       "      <td>NaN</td>\n",
       "      <td>NaN</td>\n",
       "      <td>NaN</td>\n",
       "      <td>NaN</td>\n",
       "      <td>NaN</td>\n",
       "      <td>NaN</td>\n",
       "      <td>NaN</td>\n",
       "      <td>NaN</td>\n",
       "      <td>NaN</td>\n",
       "      <td>NaN</td>\n",
       "    </tr>\n",
       "    <tr>\n",
       "      <th>4</th>\n",
       "      <td>3000.0</td>\n",
       "      <td>3000.0</td>\n",
       "      <td>3000.0</td>\n",
       "      <td>60 months</td>\n",
       "      <td>12.69%</td>\n",
       "      <td>67.79</td>\n",
       "      <td>B</td>\n",
       "      <td>B5</td>\n",
       "      <td>University Medical Group</td>\n",
       "      <td>1 year</td>\n",
       "      <td>...</td>\n",
       "      <td>NaN</td>\n",
       "      <td>NaN</td>\n",
       "      <td>NaN</td>\n",
       "      <td>NaN</td>\n",
       "      <td>NaN</td>\n",
       "      <td>NaN</td>\n",
       "      <td>NaN</td>\n",
       "      <td>NaN</td>\n",
       "      <td>NaN</td>\n",
       "      <td>NaN</td>\n",
       "    </tr>\n",
       "  </tbody>\n",
       "</table>\n",
       "<p>5 rows × 120 columns</p>\n",
       "</div>"
      ],
      "text/plain": [
       "   loan_amnt  funded_amnt  funded_amnt_inv        term int_rate  installment  \\\n",
       "0     5000.0       5000.0           4975.0   36 months   10.65%       162.87   \n",
       "1     2500.0       2500.0           2500.0   60 months   15.27%        59.83   \n",
       "2     2400.0       2400.0           2400.0   36 months   15.96%        84.33   \n",
       "3    10000.0      10000.0          10000.0   36 months   13.49%       339.31   \n",
       "4     3000.0       3000.0           3000.0   60 months   12.69%        67.79   \n",
       "\n",
       "  grade sub_grade                 emp_title emp_length  ...  \\\n",
       "0     B        B2                       NaN  10+ years  ...   \n",
       "1     C        C4                     Ryder   < 1 year  ...   \n",
       "2     C        C5                       NaN  10+ years  ...   \n",
       "3     C        C1       AIR RESOURCES BOARD  10+ years  ...   \n",
       "4     B        B5  University Medical Group     1 year  ...   \n",
       "\n",
       "  sec_app_earliest_cr_line  sec_app_inq_last_6mths sec_app_mort_acc  \\\n",
       "0                      NaN                     NaN              NaN   \n",
       "1                      NaN                     NaN              NaN   \n",
       "2                      NaN                     NaN              NaN   \n",
       "3                      NaN                     NaN              NaN   \n",
       "4                      NaN                     NaN              NaN   \n",
       "\n",
       "  sec_app_open_acc sec_app_revol_util sec_app_open_il_6m  \\\n",
       "0              NaN                NaN                NaN   \n",
       "1              NaN                NaN                NaN   \n",
       "2              NaN                NaN                NaN   \n",
       "3              NaN                NaN                NaN   \n",
       "4              NaN                NaN                NaN   \n",
       "\n",
       "   sec_app_num_rev_accts sec_app_chargeoff_within_12_mths  \\\n",
       "0                    NaN                              NaN   \n",
       "1                    NaN                              NaN   \n",
       "2                    NaN                              NaN   \n",
       "3                    NaN                              NaN   \n",
       "4                    NaN                              NaN   \n",
       "\n",
       "  sec_app_collections_12_mths_ex_med sec_app_mths_since_last_major_derog  \n",
       "0                                NaN                                 NaN  \n",
       "1                                NaN                                 NaN  \n",
       "2                                NaN                                 NaN  \n",
       "3                                NaN                                 NaN  \n",
       "4                                NaN                                 NaN  \n",
       "\n",
       "[5 rows x 120 columns]"
      ]
     },
     "execution_count": 9,
     "metadata": {},
     "output_type": "execute_result"
    }
   ],
   "source": [
    "#Load necessary libraries\n",
    "import numpy as np\n",
    "import pandas as pd\n",
    "import matplotlib.pyplot as plt\n",
    "%matplotlib inline\n",
    "\n",
    "from sklearn.model_selection import train_test_split\n",
    "from sklearn.tree import DecisionTreeClassifier\n",
    "from sklearn.linear_model import LogisticRegression\n",
    "\n",
    "from sklearn.metrics import accuracy_score\n",
    "from sklearn.metrics import accuracy_score\n",
    "from sklearn.metrics import confusion_matrix\n",
    "from sklearn.metrics import precision_recall_fscore_support as score\n",
    "from imblearn.over_sampling import SMOTE\n",
    "\n",
    "#Read in the data\n",
    "df = pd.read_csv(\"loan_data.csv\")\n",
    "\n",
    "# Print the number of rows and number of columns in the dataset\n",
    "print(df.shape)\n",
    "\n",
    "# Display the first 5 rows of the dataset, to give a preview of the data\n",
    "df.head(5)"
   ]
  },
  {
   "cell_type": "code",
   "execution_count": 10,
   "metadata": {},
   "outputs": [
    {
     "data": {
      "text/plain": [
       "[('url', 100.0),\n",
       " ('desc', 31.25675866284264),\n",
       " ('mths_since_last_delinq', 63.30575015280455),\n",
       " ('mths_since_last_record', 91.41708589966619),\n",
       " ('next_pymnt_d', 93.53754290281631),\n",
       " ('mths_since_last_major_derog', 100.0),\n",
       " ('annual_inc_joint', 100.0),\n",
       " ('dti_joint', 100.0),\n",
       " ('verification_status_joint', 100.0),\n",
       " ('tot_coll_amt', 100.0),\n",
       " ('tot_cur_bal', 100.0),\n",
       " ('open_acc_6m', 100.0),\n",
       " ('open_il_6m', 100.0),\n",
       " ('open_il_12m', 100.0),\n",
       " ('open_il_24m', 100.0),\n",
       " ('mths_since_rcnt_il', 100.0),\n",
       " ('total_bal_il', 100.0),\n",
       " ('il_util', 100.0),\n",
       " ('open_rv_12m', 100.0),\n",
       " ('open_rv_24m', 100.0),\n",
       " ('max_bal_bc', 100.0),\n",
       " ('all_util', 100.0),\n",
       " ('total_rev_hi_lim', 100.0),\n",
       " ('inq_fi', 100.0),\n",
       " ('total_cu_tl', 100.0),\n",
       " ('inq_last_12m', 100.0),\n",
       " ('acc_open_past_24mths', 100.0),\n",
       " ('avg_cur_bal', 100.0),\n",
       " ('bc_open_to_buy', 100.0),\n",
       " ('bc_util', 100.0),\n",
       " ('mo_sin_old_il_acct', 100.0),\n",
       " ('mo_sin_old_rev_tl_op', 100.0),\n",
       " ('mo_sin_rcnt_rev_tl_op', 100.0),\n",
       " ('mo_sin_rcnt_tl', 100.0),\n",
       " ('mort_acc', 100.0),\n",
       " ('mths_since_recent_bc', 100.0),\n",
       " ('mths_since_recent_bc_dlq', 100.0),\n",
       " ('mths_since_recent_inq', 100.0),\n",
       " ('mths_since_recent_revol_delinq', 100.0),\n",
       " ('num_accts_ever_120_pd', 100.0),\n",
       " ('num_actv_bc_tl', 100.0),\n",
       " ('num_actv_rev_tl', 100.0),\n",
       " ('num_bc_sats', 100.0),\n",
       " ('num_bc_tl', 100.0),\n",
       " ('num_il_tl', 100.0),\n",
       " ('num_op_rev_tl', 100.0),\n",
       " ('num_rev_accts', 100.0),\n",
       " ('num_rev_tl_bal_gt_0', 100.0),\n",
       " ('num_sats', 100.0),\n",
       " ('num_tl_120dpd_2m', 100.0),\n",
       " ('num_tl_30dpd', 100.0),\n",
       " ('num_tl_90g_dpd_24m', 100.0),\n",
       " ('num_tl_op_past_12m', 100.0),\n",
       " ('pct_tl_nvr_dlq', 100.0),\n",
       " ('percent_bc_gt_75', 100.0),\n",
       " ('tot_hi_cred_lim', 100.0),\n",
       " ('total_bal_ex_mort', 100.0),\n",
       " ('total_bc_limit', 100.0),\n",
       " ('total_il_high_credit_limit', 100.0),\n",
       " ('revol_bal_joint', 100.0),\n",
       " ('sec_app_earliest_cr_line', 100.0),\n",
       " ('sec_app_inq_last_6mths', 100.0),\n",
       " ('sec_app_mort_acc', 100.0),\n",
       " ('sec_app_open_acc', 100.0),\n",
       " ('sec_app_revol_util', 100.0),\n",
       " ('sec_app_open_il_6m', 100.0),\n",
       " ('sec_app_num_rev_accts', 100.0),\n",
       " ('sec_app_chargeoff_within_12_mths', 100.0),\n",
       " ('sec_app_collections_12_mths_ex_med', 100.0),\n",
       " ('sec_app_mths_since_last_major_derog', 100.0)]"
      ]
     },
     "execution_count": 10,
     "metadata": {},
     "output_type": "execute_result"
    }
   ],
   "source": [
    "# Calculate percentage of missing values for each variable\n",
    "nulls = df.isnull().sum()/42538.0*100\n",
    "nulls = zip(df.columns.tolist(), nulls)\n",
    "\n",
    "# Print all variable names that have more than 10% missing values\n",
    "[x for x in nulls if x[1] > 10]"
   ]
  },
  {
   "cell_type": "markdown",
   "metadata": {},
   "source": [
    "There were 120 variables, so I had to look at these carefully and select the useful ones. I used the data dictionary provided by Lending Club to understand exactly what each variable meant: https://resources.lendingclub.com/LCDataDictionary.xlsx\n",
    "\n",
    "By deleting irrelevant variables (member id, title, url, etc), poorly documented features and less\n",
    "important predictors (payment plan, zip code, etc), I was left with a more manageable set of features. I also got rid of variables that had too many missing values and ones that were hard to extract predictive power from (e.g. employer title) and ended up with 11 features."
   ]
  },
  {
   "cell_type": "code",
   "execution_count": 47,
   "metadata": {
    "collapsed": true
   },
   "outputs": [],
   "source": [
    "# Delete unwanted variables from dataset\n",
    "\n",
    "indices_to_del = [1, 2, 5, 6, 7, 8, 12, 13, 15, 16, 17, 18, 19, 20, 21, 24, 25, 26, 27, 29, 30, 31, 32, 33, 34, 35, 36, 37,\n",
    "                  38, 39, 40, 41, 42, 43, 44, 45, 46, 47, 48, 49, 50, 51, 52, 53, 54, 55, 56, 57, 58, 59, 60, 61, 62, 63, 64,\n",
    "                  65, 66, 67, 68, 69, 70, 71, 72, 73, 74, 75, 76, 77, 78, 79, 80, 81, 82, 83, 84, 85, 86, 87, 88, 89, 90, 91,\n",
    "                  92, 93, 94, 95, 96, 97, 98, 99, 100, 101, 102, 104, 105, 106, 107, 108, 109, 110, 111, 112, 113, 114, 115,\n",
    "                  116, 117, 118, 119]\n",
    "df.drop(df.columns[indices_to_del], axis=1, inplace = True)"
   ]
  },
  {
   "cell_type": "code",
   "execution_count": 50,
   "metadata": {},
   "outputs": [
    {
     "data": {
      "text/plain": [
       "[('loan_amnt', 0.007052517748836334),\n",
       " ('term', 0.007052517748836334),\n",
       " ('int_rate', 0.007052517748836334),\n",
       " ('emp_length', 2.621185763317504),\n",
       " ('home_ownership', 0.007052517748836334),\n",
       " ('annual_inc', 0.01645587474728478),\n",
       " ('loan_status', 0.007052517748836334),\n",
       " ('dti', 0.007052517748836334),\n",
       " ('delinq_2yrs', 0.07522685598758756),\n",
       " ('open_acc', 0.07522685598758756),\n",
       " ('pub_rec_bankruptcies', 3.2159480934693687)]"
      ]
     },
     "execution_count": 50,
     "metadata": {},
     "output_type": "execute_result"
    }
   ],
   "source": [
    "# Display percentage of missing values for new set of features\n",
    "\n",
    "nulls = df.isnull().sum()/42538.0*100\n",
    "nulls = zip(df.columns.tolist(), nulls)\n",
    "nulls"
   ]
  },
  {
   "cell_type": "code",
   "execution_count": 4,
   "metadata": {},
   "outputs": [
    {
     "name": "stdout",
     "output_type": "stream",
     "text": [
      "Fully Paid                                             34116\n",
      "Charged Off                                             5670\n",
      "Does not meet the credit policy. Status:Fully Paid      1988\n",
      "Does not meet the credit policy. Status:Charged Off      761\n",
      "Name: loan_status, dtype: int64\n",
      "____________________________________________________________\n",
      " 36 months    31534\n",
      " 60 months    11001\n",
      "Name: term, dtype: int64\n",
      "____________________________________________________________\n",
      "10+ years    9369\n",
      "< 1 year     5062\n",
      "2 years      4743\n",
      "3 years      4364\n",
      "4 years      3649\n",
      "1 year       3595\n",
      "5 years      3458\n",
      "6 years      2375\n",
      "7 years      1875\n",
      "8 years      1592\n",
      "9 years      1341\n",
      "Name: emp_length, dtype: int64\n",
      "____________________________________________________________\n",
      "RENT        20181\n",
      "MORTGAGE    18959\n",
      "OWN          3251\n",
      "OTHER         136\n",
      "NONE            8\n",
      "Name: home_ownership, dtype: int64\n",
      "____________________________________________________________\n"
     ]
    }
   ],
   "source": [
    "# Display the unique values of each of the categorical variables\n",
    "\n",
    "print df.loan_status.value_counts()\n",
    "print \"____________________________________________________________\"\n",
    "print df.term.value_counts()\n",
    "print \"____________________________________________________________\"\n",
    "print df.emp_length.value_counts()\n",
    "print \"____________________________________________________________\"\n",
    "print df.home_ownership.value_counts()\n",
    "print \"____________________________________________________________\""
   ]
  },
  {
   "cell_type": "markdown",
   "metadata": {},
   "source": [
    "Next, I continued the data cleaning process with the following steps:\n",
    "- Get rid of the '%' sign in the interest rate variable, and convert it to the float data type. \n",
    "- Remove any rows that don't have loan_status as either 'Fully Paid' or 'Charged Off'. This is because if a loan application is listed as 'Does not meet credit policy', then it wouldn't meet today's credit policy and wouldn't be approved on to the marketplace. As such, it wouldn't even be available for people to fund, so these loans aren't of use\n",
    "- Encode categorical variables \n",
    "- Convert the 'term' variable to integer data type\n",
    "- Deal with missing values in the dataset"
   ]
  },
  {
   "cell_type": "code",
   "execution_count": 5,
   "metadata": {
    "collapsed": true
   },
   "outputs": [],
   "source": [
    "# Get rid of % sign in the interest rate and convert it from string to float \n",
    "df['int_rate'] = df['int_rate'].str.rstrip('%').astype('float')"
   ]
  },
  {
   "cell_type": "code",
   "execution_count": 6,
   "metadata": {},
   "outputs": [],
   "source": [
    "# Remove any rows that do not have loan_status as either 'Fully paid' or 'Charged off'\n",
    "#print df.home_ownership.value_counts()\n",
    "\n",
    "df = df[(df['loan_status'] == 'Fully Paid') | (df['loan_status'] == 'Charged Off')]"
   ]
  },
  {
   "cell_type": "markdown",
   "metadata": {},
   "source": [
    "The categorical variables are ordinal (they have a natural ordering), so simple label encoding can be used instead of one-hot \n",
    "encoding, which is another encoding method (a downside of one-hot encoding is that the number of columns in the dataset would increase by more than 100%).\n",
    "\n",
    "I didn't include home_ownership values of 'OTHER' in the encoding, since I considered these values as missing values, which I deleted (as explained later on)"
   ]
  },
  {
   "cell_type": "code",
   "execution_count": 7,
   "metadata": {},
   "outputs": [],
   "source": [
    "# Encode categorical (ordinal) variables\n",
    "\n",
    "mapping_dict = {\n",
    "    \"emp_length\": {\n",
    "        \"10+ years\": 10,\n",
    "        \"9 years\": 9,\n",
    "        \"8 years\": 8,\n",
    "        \"7 years\": 7,\n",
    "        \"6 years\": 6,\n",
    "        \"5 years\": 5,\n",
    "        \"4 years\": 4,\n",
    "        \"3 years\": 3,\n",
    "        \"2 years\": 2,\n",
    "        \"1 year\": 1,\n",
    "        \"< 1 year\": 0},\n",
    "    \n",
    "    'loan_status': \n",
    "       {'Fully Paid': 1,\n",
    "       'Charged Off': 0},\n",
    "    \n",
    "    'home_ownership': \n",
    "       {'NONE': 0,\n",
    "       'RENT': 1,\n",
    "       'MORTGAGE': 2,\n",
    "       'OWN': 3}\n",
    "}\n",
    "\n",
    "df = df.replace(mapping_dict)"
   ]
  },
  {
   "cell_type": "code",
   "execution_count": 8,
   "metadata": {},
   "outputs": [
    {
     "name": "stdout",
     "output_type": "stream",
     "text": [
      "1    34116\n",
      "0     5670\n",
      "Name: loan_status, dtype: int64\n"
     ]
    }
   ],
   "source": [
    "# Check that the encoding worked correctly\n",
    "print df.loan_status.value_counts()"
   ]
  },
  {
   "cell_type": "markdown",
   "metadata": {},
   "source": [
    "Next I checked for any remaining missing values that hadn't been dealt with yet. Remember from above that I treated home_ownership values of 'OTHER' as missing values."
   ]
  },
  {
   "cell_type": "code",
   "execution_count": 12,
   "metadata": {},
   "outputs": [
    {
     "name": "stdout",
     "output_type": "stream",
     "text": [
      "Number of null values in each column:\n",
      "loan_amnt                  0\n",
      "term                       0\n",
      "int_rate                   0\n",
      "emp_length              1078\n",
      "home_ownership             0\n",
      "annual_inc                 0\n",
      "loan_status                0\n",
      "dti                        0\n",
      "delinq_2yrs                0\n",
      "open_acc                   0\n",
      "pub_rec_bankruptcies     697\n",
      "dtype: int64\n",
      "\n",
      "___________________________________________________\n",
      "home_ownership value counts:\n",
      "1        18918\n",
      "2        17703\n",
      "3         3064\n",
      "OTHER       98\n",
      "0            3\n",
      "Name: home_ownership, dtype: int64\n",
      "(39786, 11)\n"
     ]
    }
   ],
   "source": [
    "null_counts = df.isnull().sum()\n",
    "print(\"Number of null values in each column:\\n{}\".format(null_counts))\n",
    "print \"\\n___________________________________________________\"\n",
    "print \"home_ownership value counts:\"\n",
    "print df.home_ownership.value_counts()\n",
    "print df.shape"
   ]
  },
  {
   "cell_type": "markdown",
   "metadata": {},
   "source": [
    "Less than 0.25% of the data had home ownership as 'OTHER', so I decided to delete these rows, since it wouldn't significantly \n",
    "decrease the amount of data.\n",
    "\n",
    "There were only 1078 rows with missing data for the emp_length column, so I deleted these rows too.\n",
    "\n",
    "Finally, a few more rows contained null values, so I deleted them (this was the quickest way to deal with missing values, although I could have used imputation methods if I'd wanted to preserve as much data as possible) "
   ]
  },
  {
   "cell_type": "code",
   "execution_count": 9,
   "metadata": {},
   "outputs": [],
   "source": [
    "df = df[df.home_ownership != 'OTHER']\n",
    "df = df[df.emp_length.notnull()]\n",
    "df = df.dropna()"
   ]
  },
  {
   "cell_type": "code",
   "execution_count": 10,
   "metadata": {},
   "outputs": [],
   "source": [
    "#Strip unecessary text from the 'term' variable and then convert it to integer data type\n",
    "df['term'] = df['term'].str.rstrip(' months').astype('int')"
   ]
  },
  {
   "cell_type": "code",
   "execution_count": 15,
   "metadata": {},
   "outputs": [],
   "source": [
    "# Save the clean data to a new csv file\n",
    "df.to_csv(\"final_loan_data.csv\", index = False)"
   ]
  },
  {
   "cell_type": "markdown",
   "metadata": {},
   "source": [
    "Next, I did some data visualisation. "
   ]
  },
  {
   "cell_type": "code",
   "execution_count": 11,
   "metadata": {},
   "outputs": [
    {
     "data": {
      "image/png": "[encoded data removed]",
      "text/plain": [
       "<matplotlib.figure.Figure at 0x17de2d30>"
      ]
     },
     "metadata": {},
     "output_type": "display_data"
    },
    {
     "data": {
      "image/png": "[encoded data removed]",
      "text/plain": [
       "<matplotlib.figure.Figure at 0x14a6c7f0>"
      ]
     },
     "metadata": {},
     "output_type": "display_data"
    }
   ],
   "source": [
    "# Create histograms of interest rate and employment length\n",
    "plt.hist(df['int_rate'], bins = 100)\n",
    "plt.xlabel('Interest Rate')\n",
    "plt.ylabel('Frequency')\n",
    "plt.title('Histogram of Interest Rates')\n",
    "plt.show()\n",
    "\n",
    "plt.hist(df['emp_length'], bins = 11)\n",
    "plt.xlabel('Employment Length (in years)')\n",
    "plt.ylabel('Frequency')\n",
    "plt.xticks([0,1,2,3,4,5,6,7,8,9,10], ['<1','1','2','3','4','5','6','7','8','9','10+'])\n",
    "plt.title('Histogram of Employment Length')\n",
    "plt.show()"
   ]
  },
  {
   "cell_type": "code",
   "execution_count": 17,
   "metadata": {},
   "outputs": [
    {
     "data": {
      "image/png": "[encoded data removed]",
      "text/plain": [
       "<matplotlib.figure.Figure at 0x18fb0ac8>"
      ]
     },
     "metadata": {},
     "output_type": "display_data"
    },
    {
     "data": {
      "image/png": "[encoded data removed]",
      "text/plain": [
       "<matplotlib.figure.Figure at 0xcd113c8>"
      ]
     },
     "metadata": {},
     "output_type": "display_data"
    },
    {
     "data": {
      "image/png": "[encoded data removed]",
      "text/plain": [
       "<matplotlib.figure.Figure at 0x14ad3fd0>"
      ]
     },
     "metadata": {},
     "output_type": "display_data"
    }
   ],
   "source": [
    "mean_inc_charged_off = df[df.loan_status == 0]['annual_inc'].mean()\n",
    "mean_inc_paid = df[df.loan_status == 1]['annual_inc'].mean()\n",
    "labels = ('Charged Off', 'Fully Paid')\n",
    "y_pos = np.arange(len(labels))\n",
    "mean_inc = [mean_inc_charged_off, mean_inc_paid]\n",
    "plt.bar(y_pos, mean_inc, align='center', alpha=0.5)\n",
    "plt.xticks(y_pos, labels)\n",
    "plt.ylabel('Income')\n",
    "plt.title('Mean Income By Loan Status')\n",
    "plt.show()\n",
    "\n",
    "mean_loan_amnt_charged_off = df[df.loan_status == 0]['loan_amnt'].mean()\n",
    "mean_loan_amnt_paid = df[df.loan_status == 1]['loan_amnt'].mean()\n",
    "labels = ('Charged Off', 'Fully Paid')\n",
    "y_pos = np.arange(len(labels))\n",
    "mean_loan_amnt = [mean_loan_amnt_charged_off, mean_loan_amnt_paid]\n",
    "plt.bar(y_pos, mean_inc, align='center', alpha=0.5)\n",
    "plt.xticks(y_pos, labels)\n",
    "plt.ylabel('Loan Amount')\n",
    "plt.title('Mean Loan Amount By Loan Status')\n",
    "plt.show()\n",
    "\n",
    "mean_int_rate_charged_off = df[df.loan_status == 0]['int_rate'].mean()\n",
    "mean_int_rate_paid = df[df.loan_status == 1]['int_rate'].mean()\n",
    "labels = ('Charged Off', 'Fully Paid')\n",
    "y_pos = np.arange(len(labels))\n",
    "mean_int_rate = [mean_int_rate_charged_off, mean_int_rate_paid]\n",
    "plt.bar(y_pos, mean_int_rate, align='center', alpha=0.5)\n",
    "plt.xticks(y_pos, labels)\n",
    "plt.ylabel('Interest Rate')\n",
    "plt.title('Mean Interest Rate By Loan Status')\n",
    "plt.show()"
   ]
  },
  {
   "cell_type": "markdown",
   "metadata": {},
   "source": [
    "From the graphs above, it's clear that fully paid loans had higher applicant incomes, higher loan amounts and lower interest rates than loans that were charged off.\n",
    "\n",
    "Next, I created a scatterplot of Interest Rate VS Annual Income, and colour-coded the data points according to the loan outcome"
   ]
  },
  {
   "cell_type": "code",
   "execution_count": 40,
   "metadata": {},
   "outputs": [
    {
     "data": {
      "image/png": "[encoded data removed]",
      "text/plain": [
       "<matplotlib.figure.Figure at 0x11c5f208>"
      ]
     },
     "metadata": {},
     "output_type": "display_data"
    }
   ],
   "source": [
    "# Take random samples of data to balance the number of data points of each outcome and avoid making the plot too cluttered\n",
    "data_charged_off = df[df.loan_status == 0].sample(n = 1000)\n",
    "data_paid = df[df.loan_status == 1].sample(n = 1000)\n",
    "data = pd.concat([data_charged_off, data_paid])\n",
    "\n",
    "# Colour code the data points\n",
    "#color = ['red' if i == 0 else 'blue' for i in data['loan_status']]\n",
    "\n",
    "plt.figure(figsize = (10,8))\n",
    "plt.scatter(data_charged_off['int_rate'], data_charged_off['annual_inc'], color = 'red', label = 'Charged Off')\n",
    "plt.scatter(data_paid['int_rate'], data_paid['annual_inc'], color = 'blue', label = 'Fully Paid')\n",
    "\n",
    "plt.legend(loc='upper right', scatterpoints = 1)\n",
    "plt.xlim((2,27))\n",
    "plt.ylim((0,150000))\n",
    "plt.title('Scatterplot of Interest Rate VS Annual Income')\n",
    "plt.xlabel('Interest Rate')\n",
    "plt.ylabel('Annual Income')\n",
    "plt.show()"
   ]
  },
  {
   "cell_type": "markdown",
   "metadata": {},
   "source": [
    "I also created a correlation matrix, which was useful in spotting trends between variables (and to see which features had predictive power). I also used the correlation matrix in the data cleaning phase to find pairs of highly correlated features (e.g. installment and loan amount), and I deleted one of the variables from these pairs, since having highly correlated features can overemphasise the importance of a certain feature, thus decreasing model performance."
   ]
  },
  {
   "cell_type": "code",
   "execution_count": 82,
   "metadata": {},
   "outputs": [
    {
     "name": "stdout",
     "output_type": "stream",
     "text": [
      "Correlation between loan status and other variables:\n",
      "loan_amnt              -0.050876\n",
      "int_rate               -0.201380\n",
      "emp_length             -0.012531\n",
      "annual_inc              0.040210\n",
      "loan_status             1.000000\n",
      "dti                    -0.039510\n",
      "delinq_2yrs            -0.017507\n",
      "open_acc                0.007767\n",
      "pub_rec_bankruptcies   -0.045567\n",
      "Name: loan_status, dtype: float64\n"
     ]
    }
   ],
   "source": [
    "print \"Correlation between loan status and other variables:\"\n",
    "print df.corr()['loan_status']"
   ]
  },
  {
   "cell_type": "markdown",
   "metadata": {},
   "source": [
    "From the correlation matrix, one can see that loans are more likely to be charged off with higher loan amounts, longer terms and higher interest rates, but are less likely to be charged off if the applicant has a higher annual income. While these findings are obvious, it's good to see that the data confirms them.\n",
    "\n",
    "Next, I began the process of creating machine learning models and testing them."
   ]
  },
  {
   "cell_type": "code",
   "execution_count": 3,
   "metadata": {},
   "outputs": [],
   "source": [
    "# Read data from csv file and separate the features from the response variable\n",
    "df = pd.read_csv(\"final_loan_data.csv\")\n",
    "features = [x for x in df.columns.tolist() if x != 'loan_status']\n",
    "response = 'loan_status'\n",
    "\n",
    "X = df[features]\n",
    "Y = df[response]\n",
    "\n",
    "# Split the data into a training set and testing set\n",
    "X_train, X_test, y_train, y_test = train_test_split(X, Y, test_size = 0.3)"
   ]
  },
  {
   "cell_type": "code",
   "execution_count": 4,
   "metadata": {},
   "outputs": [
    {
     "data": {
      "text/plain": [
       "DecisionTreeClassifier(class_weight=None, criterion='gini', max_depth=None,\n",
       "            max_features=None, max_leaf_nodes=None,\n",
       "            min_impurity_decrease=0.0, min_impurity_split=None,\n",
       "            min_samples_leaf=1, min_samples_split=2,\n",
       "            min_weight_fraction_leaf=0.0, presort=False, random_state=None,\n",
       "            splitter='best')"
      ]
     },
     "execution_count": 4,
     "metadata": {},
     "output_type": "execute_result"
    }
   ],
   "source": [
    "# Train a Decision Tree Classifier with the training data\n",
    "\n",
    "dt = DecisionTreeClassifier()\n",
    "dt.fit(X_train, y_train)"
   ]
  },
  {
   "cell_type": "code",
   "execution_count": 45,
   "metadata": {},
   "outputs": [
    {
     "name": "stdout",
     "output_type": "stream",
     "text": [
      "Accuracy score: 76.49%\n"
     ]
    }
   ],
   "source": [
    "# Generate predictions for the loan status of records in the test set \n",
    "y_predict = dt.predict(X_test)\n",
    "# Calculate the accuracy score of the classifier\n",
    "print \"Accuracy score: \" + str(round(accuracy_score(y_test, y_predict)*100, 3)) + \"%\""
   ]
  },
  {
   "cell_type": "code",
   "execution_count": 46,
   "metadata": {},
   "outputs": [
    {
     "name": "stdout",
     "output_type": "stream",
     "text": [
      "Predicted     0     1    All\n",
      "Actual                      \n",
      "0           325  1275   1600\n",
      "1          1399  8375   9774\n",
      "All        1724  9650  11374\n",
      "________________________________________________________\n",
      "Percentage of paid off loans correctly predicted: 85.687\n",
      "Percentage of charged off loans correctly predicted: 20.313\n"
     ]
    }
   ],
   "source": [
    "# Display more information about model performance\n",
    "\n",
    "table = pd.crosstab(y_test, y_predict, rownames=['Actual'], colnames=['Predicted'], margins=True)\n",
    "print table\n",
    "print \"________________________________________________________\"\n",
    "correct_paid_pct = table.loc[1][1]/float(table.loc[1][2]) * 100\n",
    "correct_co_pct = table.loc[0][0]/float(table.loc[0][2]) * 100\n",
    "print \"Percentage of paid off loans correctly predicted: \" + str(round(correct_paid_pct,3))\n",
    "print \"Percentage of charged off loans correctly predicted: \" + str(round(correct_co_pct,3))\n",
    "#from sklearn.metrics import confusion_matrix\n",
    "#confusion_matrix(y_test, y_predict)"
   ]
  },
  {
   "cell_type": "markdown",
   "metadata": {},
   "source": [
    "The accuracy of around 76% isn't bad, but we can see that the model correctly predicted that a loan was charged off only 20% of the time. This is due to class imbalance - the training data contains many more examples of fully paid loans than charged off ones. As such, it can achieve a high accuracy simply by predicting that every loan will be fully paid (such a model would have a high accuracy, but would not manage to identify loans that will be charged off). This problem can be solved by creating synthetic observations based upon the existing minority class observations. I used a popular technique called SMOTE to do this."
   ]
  },
  {
   "cell_type": "code",
   "execution_count": 20,
   "metadata": {},
   "outputs": [],
   "source": [
    "# Synthetically create data to balance the training set\n",
    "X_train_new, y_train_new = SMOTE().fit_sample(X_train, y_train)"
   ]
  },
  {
   "cell_type": "code",
   "execution_count": 44,
   "metadata": {},
   "outputs": [
    {
     "name": "stdout",
     "output_type": "stream",
     "text": [
      "Accuracy score: 74.442%\n",
      "Percentage of paid off loans correctly predicted: 82.689\n",
      "Percentage of charged off loans correctly predicted: 29.835\n"
     ]
    }
   ],
   "source": [
    "# Refit the classifier, this time with the balanced data\n",
    "dt = DecisionTreeClassifier()\n",
    "dt.fit(X_train_new, y_train_new)\n",
    "\n",
    "# Generate predictions for the loan status of records in the test set \n",
    "y_predict = dt.predict(X_test)\n",
    "\n",
    "# Calculate and print the accuracy score of the classifier\n",
    "print \"Accuracy score: \" + str(round(accuracy_score(y_test, y_predict)*100, 3)) + \"%\"\n",
    "\n",
    "# Display more information about model performance\n",
    "table = pd.crosstab(y_test, y_predict, rownames=['Actual'], colnames=['Predicted'], margins=True)\n",
    "correct_paid_pct = table.loc[1][1]/float(table.loc[1][2]) * 100\n",
    "correct_co_pct = table.loc[0][0]/float(table.loc[0][1]) * 100\n",
    "print \"Percentage of paid off loans correctly predicted: \" + str(round(correct_paid_pct,3))\n",
    "print \"Percentage of charged off loans correctly predicted: \" + str(round(correct_co_pct,3))"
   ]
  },
  {
   "cell_type": "markdown",
   "metadata": {},
   "source": [
    "We can see that these are much better results - the percentage of charged off loans identified by our model increased by 13% after using the SMOTE method, without decreasing the overall accuracy too much. Further improvements could be made to the model by employing cross validation, creating more informative features, tuning model hyperparameters and using different machine learning algorithms."
   ]
  }
 ],
 "metadata": {
  "kernelspec": {
   "display_name": "Python 3",
   "language": "python",
   "name": "python3"
  },
  "language_info": {
   "codemirror_mode": {
    "name": "ipython",
    "version": 3
   },
   "file_extension": ".py",
   "mimetype": "text/x-python",
   "name": "python",
   "nbconvert_exporter": "python",
   "pygments_lexer": "ipython3",
   "version": "3.7.3"
  }
 },
 "nbformat": 4,
 "nbformat_minor": 1
}
